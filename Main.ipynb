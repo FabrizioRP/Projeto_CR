{
 "cells": [
  {
   "cell_type": "markdown",
   "metadata": {},
   "source": [
    "Análises\n",
    "\n",
    "1. Pessoas que repetiram a mesma matéria durante o período\n",
    "2. Seguir o \"quadrimestre ideal\" do BC&T\n",
    "3. Matérias escolhidas por pessoas que entraram no mesmo ano\n",
    "4. Matérias com alto índice de reprovação devem ter maior mistura de alunos de anos de ingresso diferentes.  "
   ]
  },
  {
   "cell_type": "markdown",
   "metadata": {},
   "source": [
    "Nota: Pros RAs de 8 digitos, o ano de ingresso são os dois ultimos dígitos"
   ]
  },
  {
   "cell_type": "markdown",
   "metadata": {},
   "source": [
    "Estrutura do código: \n",
    "- Blocos individuais para cada \"Parte\" da execução\n",
    "- Blocos para a filtragem dos CSVs\n",
    "- Blocos para a construção dos grafos\n",
    "- Blocos para plotar os grafos"
   ]
  }
 ],
 "metadata": {
  "kernelspec": {
   "display_name": "Python 3",
   "language": "python",
   "name": "python3"
  },
  "language_info": {
   "codemirror_mode": {
    "name": "ipython",
    "version": 3
   },
   "file_extension": ".py",
   "mimetype": "text/x-python",
   "name": "python",
   "nbconvert_exporter": "python",
   "pygments_lexer": "ipython3",
   "version": "3.11.3"
  }
 },
 "nbformat": 4,
 "nbformat_minor": 2
}
