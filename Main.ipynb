{
 "cells": [
  {
   "cell_type": "markdown",
   "metadata": {},
   "source": [
    "Análises\n",
    "\n",
    "1. Pessoas que repetiram a mesma matéria durante o período\n",
    "2. Seguir o \"quadrimestre ideal\" do BC&T\n",
    "3. Matérias escolhidas por pessoas que entraram no mesmo ano\n",
    "4. Matérias com alto índice de reprovação devem ter maior mistura de alunos de anos de ingresso diferentes.  "
   ]
  },
  {
   "cell_type": "markdown",
   "metadata": {},
   "source": [
    "Nota: Pros RAs de 8 digitos, o ano de ingresso são os dois ultimos dígitos"
   ]
  },
  {
   "cell_type": "markdown",
   "metadata": {},
   "source": [
    "Estrutura do código: \n",
    "- Blocos individuais para cada \"Parte\" da execução\n",
    "- Blocos para a filtragem dos CSVs\n",
    "- Blocos para a construção dos grafos\n",
    "- Blocos para plotar os grafos"
   ]
  },
  {
   "cell_type": "markdown",
   "metadata": {},
   "source": [
    "# O código de verdade começa aqui em baixo\n"
   ]
  },
  {
   "cell_type": "code",
   "execution_count": 8,
   "metadata": {},
   "outputs": [],
   "source": [
    "# Inclusão das bibliotecas\n",
    "import pandas as pd\n",
    "import networkx as nx\n",
    "import matplotlib.pyplot as plt\n",
    "import numpy as np\n",
    "import math as mt\n",
    "import igraph as ig"
   ]
  },
  {
   "cell_type": "code",
   "execution_count": 42,
   "metadata": {},
   "outputs": [],
   "source": [
    "# Código que forma o CSV de teste\n",
    "t = open(\"test.csv\", \"w\")\n",
    "t.write(\"\")\n",
    "t.close()\n",
    "\n",
    "a = open(\"test.txt\", \"r\", encoding=\"utf-8\")\n",
    "b = open(\"test.csv\", \"a\", encoding=\"utf-8\")\n",
    "\n",
    "cont = 0 # ponteiro pra saber o a linha mesmo. nn sei pq tem isso\n",
    "\n",
    "for i in a:\n",
    "\n",
    "    ins = \"\"\n",
    "\n",
    "    cont+= 1\n",
    "\n",
    "    l = 0 # contador do caracter atual da linha\n",
    "\n",
    "    if cont == 1: continue # Caso esteja na primeira linha, só pula\n",
    "\n",
    "    if cont == 2: # Caso esteja na segunda linha, adiciona os indices do CSV\n",
    "        cab = \"\"\n",
    "\n",
    "        while i[l] != 'T': # adiciona todas as letras até o 'T' de \"Turma\"\n",
    "            \n",
    "            if i[l] == \" \" and l < 6: cab+= \",\" # se o atual é um espaço, adiciona uma virgula antes\n",
    "\n",
    "            cab+= i[l]\n",
    "\n",
    "            l+=1\n",
    "        \n",
    "        cab+= \"\\n\"\n",
    "        b.write(cab)\n",
    "\n",
    "        continue\n",
    "    else:\n",
    "        if not i[0].isnumeric() or i[2] == \"/\" or i[3] == \"/\" or i[4] == \"/\": continue \n",
    "        # ^se o primeiro digito for um numero ou for um fim da pagina do pdf ele só pula a escrita\n",
    "\n",
    "    RA = \"\"\n",
    "    disc = \"\"\n",
    "\n",
    "    while i[l] != \" \": # pega o RA até o primeiro espaço\n",
    "        RA+= i[l]\n",
    "        l+=1\n",
    "    l+=1\n",
    "\n",
    "    while i[l] != \" \": # pega o RA até o primeiro espaço\n",
    "        disc+= i[l]\n",
    "        l+=1\n",
    "    l+=1\n",
    "\n",
    "    ins+= RA\n",
    "    ins+= \", \"\n",
    "    ins+= disc\n",
    "    ins+= \"\\n\"\n",
    "\n",
    "    b.write(ins)\n",
    "\n",
    "a.close()\n",
    "b.close()"
   ]
  },
  {
   "cell_type": "code",
   "execution_count": 43,
   "metadata": {},
   "outputs": [
    {
     "name": "stdout",
     "output_type": "stream",
     "text": [
      "Graph with 12488 nodes and 42385 edges\n"
     ]
    }
   ],
   "source": [
    "# Monta o grafo com o CSV de teste\n",
    "a = pd.read_csv(\"test.csv\") # Lê o csv do grafo\n",
    "\n",
    "g = nx.Graph() # Cria o objeto grafo\n",
    "\n",
    "# contando os RAs unicos\n",
    "#cout = []\n",
    "#c = 0\n",
    "\n",
    "#for i in range((int)(a.size / 2)):\n",
    "#    if a.loc[i][0] not in cout:\n",
    "#        c+=1\n",
    "#        cout+= [a.loc[i][0]]\n",
    "\n",
    "#print(c)\n",
    "\n",
    "# Cria os vertices dos RAs no grafo\n",
    "for i in range((int)(a.size / 2)):\n",
    "    g.add_node(a.loc[i][0], bipartite = 0)\n",
    "    g.add_node(a.loc[i][1], bipartite = 1)\n",
    "    g.add_edge(a.loc[i][0], a.loc[i][1])\n",
    "\n",
    "# nx.draw_kamada_kawai(g, arrows=False, with_labels=False, node_size=2)\n",
    "\n",
    "print(g)\n",
    "\n",
    "# código com o igraph\n",
    "\n",
    "#G = ig.Graph.from_networkx(g)\n",
    "#fig, ax = plt.subplots()\n",
    "#ig.plot(G, target=ax, vertex_size=2, layout = G.layout(\"kk\"))\n",
    "#plt.show()\n",
    "#print(g)"
   ]
  }
 ],
 "metadata": {
  "kernelspec": {
   "display_name": "Python 3",
   "language": "python",
   "name": "python3"
  },
  "language_info": {
   "codemirror_mode": {
    "name": "ipython",
    "version": 3
   },
   "file_extension": ".py",
   "mimetype": "text/x-python",
   "name": "python",
   "nbconvert_exporter": "python",
   "pygments_lexer": "ipython3",
   "version": "3.11.3"
  }
 },
 "nbformat": 4,
 "nbformat_minor": 2
}
